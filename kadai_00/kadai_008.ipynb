{
  "nbformat": 4,
  "nbformat_minor": 0,
  "metadata": {
    "colab": {
      "provenance": []
    },
    "kernelspec": {
      "name": "python3",
      "display_name": "Python 3"
    },
    "language_info": {
      "name": "python"
    }
  },
  "cells": [
    {
      "cell_type": "code",
      "execution_count": 29,
      "metadata": {
        "colab": {
          "base_uri": "https://localhost:8080/"
        },
        "id": "Z5T83JX0cYPA",
        "outputId": "121bb5e0-9b93-4317-bbf9-7e870e556952"
      },
      "outputs": [
        {
          "output_type": "stream",
          "name": "stdout",
          "text": [
            "7\n"
          ]
        }
      ],
      "source": [
        "import random\n",
        "var = random.randint(0,20)\n",
        "if (var % 3) == 0:\n",
        "  print(\"Fizz\")\n",
        "elif (var % 5) == 0:\n",
        "  print(\"Buzz\")\n",
        "elif (var % 3 == 0) and (var % 5 == 0):\n",
        "  print(\"FizzBuzzz\")\n",
        "else:\n",
        "  print(var)"
      ]
    }
  ]
}