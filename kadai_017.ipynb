{
  "nbformat": 4,
  "nbformat_minor": 0,
  "metadata": {
    "colab": {
      "provenance": []
    },
    "kernelspec": {
      "name": "python3",
      "display_name": "Python 3"
    },
    "language_info": {
      "name": "python"
    }
  },
  "cells": [
    {
      "cell_type": "code",
      "execution_count": 1,
      "metadata": {
        "colab": {
          "base_uri": "https://localhost:8080/"
        },
        "id": "-hTvJh8aVKNk",
        "outputId": "de08f986-0c83-4070-911c-58fece61f106"
      },
      "outputs": [
        {
          "output_type": "stream",
          "name": "stdout",
          "text": [
            "大人でない\n",
            "大人である\n",
            "大人である\n",
            "大人でない\n"
          ]
        }
      ],
      "source": [
        "class Human:\n",
        "  def __init__(self, name, age):\n",
        "    self.name = name\n",
        "    self.age = age\n",
        "  def check_adult(self):\n",
        "    if self.age >= 20:\n",
        "      print(\"大人である\")\n",
        "    else:\n",
        "      print(\"大人でない\")\n",
        "Human1 = Human(\"蒼生\", 15)\n",
        "Human2 = Human(\"こうき\", 21)\n",
        "Human3 = Human(\"ゆら\", 32)\n",
        "Human4 = Human(\"さき\", 5)\n",
        "\n",
        "list = [Human1, Human2, Human3, Human4]\n",
        "for i in list:\n",
        "  i.check_adult()"
      ]
    },
    {
      "cell_type": "code",
      "source": [],
      "metadata": {
        "id": "EZd5cyhBbYN9"
      },
      "execution_count": null,
      "outputs": []
    }
  ]
}